{
 "cells": [
  {
   "cell_type": "markdown",
   "metadata": {},
   "source": [
    "## Densidade Espectral de Potência"
   ]
  },
  {
   "cell_type": "code",
   "execution_count": null,
   "metadata": {},
   "outputs": [],
   "source": [
    "using FFTW\n",
    "using Plots"
   ]
  },
  {
   "cell_type": "markdown",
   "metadata": {},
   "source": [
    "### Parâmetros"
   ]
  },
  {
   "cell_type": "code",
   "execution_count": null,
   "metadata": {},
   "outputs": [],
   "source": [
    "fs = 1000         # Frequência de amostragem (Hz)\n",
    "T = 1.0           # Duração do sinal (s)\n",
    "t = 0:1/fs:T-1/fs # Vetor de tempo\n",
    "\n",
    "f1 = 50   # Frequência 1 (Hz)\n",
    "f2 = 120  # Frequência 2 (Hz)\n",
    "f3 = 280  # Frequência 3 (Hz)\n",
    "f4 = 200  # Frequência 4 (Hz)"
   ]
  },
  {
   "cell_type": "markdown",
   "metadata": {},
   "source": [
    "### Gerando soma de senoides"
   ]
  },
  {
   "cell_type": "code",
   "execution_count": null,
   "metadata": {},
   "outputs": [],
   "source": [
    "x = 1*sin.(2 * π * f1 * t) .+ 4*sin.(2 * π * f2 * t) .+ 1*sin.(2 * π * f3 * t) .+ 1*cos.(2 * π * f4 * t)\n",
    "\n",
    "var_ruido = 1\n",
    "ruido = var_ruido * randn(length(t))\n",
    "x_ruido = x .+ ruido"
   ]
  },
  {
   "cell_type": "code",
   "execution_count": null,
   "metadata": {},
   "outputs": [],
   "source": [
    "plot(t,x_ruido,linewidth=3, linecolor = :blue, label = \"Sinal com ruído\", xlabel=\"Tempo\", ylabel=\"X(t)\", legend = false)\n",
    "    plot!(t,x,linewidth=3, linecolor = :red, label=\"Sinal sem ruído\")#, size = (1150, 500))\n",
    "    #plot!(t,ruido,linewidth=3, linecolor = :yellow, label=\"Sinal sem ruído\")\n",
    "    #savefig(\"Sinal_ruido_tempo.pdf\")"
   ]
  },
  {
   "cell_type": "markdown",
   "metadata": {},
   "source": [
    "### Cálculo da densidade espectral de potência"
   ]
  },
  {
   "cell_type": "code",
   "execution_count": null,
   "metadata": {},
   "outputs": [],
   "source": [
    "N = length(t)\n",
    "X_f = fft(x_ruido)\n",
    "psd = (abs.(X_f).^2) / (fs * N)\n",
    "frequencias = (0:N-1) * fs / N\n",
    "\n",
    "# Plot da densidade espectral de potência\n",
    "plot(frequencias[1:div(N,2)], psd[1:div(N,2)],\n",
    "     xlabel=\"Frequência (Hz)\", ylabel=\"Densidade Espectral de Potência\",\n",
    "     title=\"Densidade Espectral de Potência\",\n",
    "     linewidth=2, legend = false)\n",
    "     #savefig(\"Sinal_ruido_frequencia.pdf\")"
   ]
  },
  {
   "cell_type": "code",
   "execution_count": null,
   "metadata": {},
   "outputs": [],
   "source": [
    "N = length(t)\n",
    "X_f_ruido = fft(x)\n",
    "psd_ruido = (abs.(X_f_ruido).^2) / (fs * N)\n",
    "frequencias = (0:N-1) * fs / N\n",
    "\n",
    "# Plot da densidade espectral de potência\n",
    "plot(frequencias[1:div(N,2)], psd_ruido[1:div(N,2)],\n",
    "     xlabel=\"Frequência (Hz)\", ylabel=\"Densidade Espectral de Potência\",\n",
    "     title=\"Densidade Espectral de Potência\",\n",
    "     linewidth=2, legend = false)#, size = (1150, 700))"
   ]
  }
 ],
 "metadata": {
  "kernelspec": {
   "display_name": "Julia 1.11.1",
   "language": "julia",
   "name": "julia-1.11"
  },
  "language_info": {
   "file_extension": ".jl",
   "mimetype": "application/julia",
   "name": "julia",
   "version": "1.11.1"
  }
 },
 "nbformat": 4,
 "nbformat_minor": 2
}

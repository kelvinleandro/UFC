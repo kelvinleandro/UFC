{
 "cells": [
  {
   "cell_type": "code",
   "execution_count": null,
   "metadata": {},
   "outputs": [],
   "source": [
    "using Random\n",
    "using Plots\n",
    "using Distributions\n",
    "using Statistics\n",
    "using StatsPlots\n",
    "using StatsBase\n",
    "using WAV\n",
    "using Sound"
   ]
  },
  {
   "cell_type": "markdown",
   "metadata": {},
   "source": [
    "### Parâmetros gerais"
   ]
  },
  {
   "cell_type": "code",
   "execution_count": null,
   "metadata": {},
   "outputs": [],
   "source": [
    "N = 1000       # Número de amostras\n",
    "k = 10          # Número de realizações"
   ]
  },
  {
   "cell_type": "markdown",
   "metadata": {},
   "source": [
    "## Ruído Branco"
   ]
  },
  {
   "cell_type": "code",
   "execution_count": null,
   "metadata": {},
   "outputs": [],
   "source": [
    "Variancia = 3\n",
    "X_ruido_branco = zeros(k,N)\n",
    "#X_ruido_branco = sqrt(Variancia)*randn(k,N)\n",
    "for i in 1 : k\n",
    "    X_ruido_branco[i,:] .= sqrt(Variancia)*randn(N)\n",
    "end\n",
    "    \n",
    "size(X_ruido_branco)\n",
    "    \n"
   ]
  },
  {
   "cell_type": "code",
   "execution_count": null,
   "metadata": {},
   "outputs": [],
   "source": [
    "p1 = plot(X_ruido_branco[1,:], label=\"Ruido_branco\", legend=false, size = (1150, 500))"
   ]
  },
  {
   "cell_type": "code",
   "execution_count": null,
   "metadata": {},
   "outputs": [],
   "source": [
    "# Tocar aúdio wavplay(y, fs)\n",
    "wavplay(X_ruido_branco[1,:],8000)"
   ]
  },
  {
   "cell_type": "code",
   "execution_count": null,
   "metadata": {},
   "outputs": [],
   "source": [
    "#R = (vários vetores..)\n",
    "Lag_max = 100\n",
    "Lags = 0:Lag_max-1\n",
    "#J = length(Lags)\n",
    "R = zeros(length(Lags),k)\n",
    "\n",
    "for i in 1:k\n",
    "    R[:,i] .= autocor(X_ruido_branco[i,:], Lags; demean=true) #Autocorrelação do vetor X\n",
    "end\n",
    "\n",
    "R_medio = mean(R,dims=2)\n"
   ]
  },
  {
   "cell_type": "code",
   "execution_count": null,
   "metadata": {},
   "outputs": [],
   "source": [
    "pr = plot(R_medio, line = :stem, marker = :circle, markersize = 5, linewidth = 3, size = (1100,500), label = \"ACF\", legend = false)  "
   ]
  },
  {
   "cell_type": "markdown",
   "metadata": {},
   "source": [
    "## Sequência binária aleatória"
   ]
  },
  {
   "cell_type": "code",
   "execution_count": null,
   "metadata": {},
   "outputs": [],
   "source": [
    "prob = 1/3 # Probabilidade de geração de um '1'\n",
    "\n",
    "X_binaria = rand(Bernoulli(prob), k, N)\n"
   ]
  },
  {
   "cell_type": "code",
   "execution_count": null,
   "metadata": {},
   "outputs": [],
   "source": [
    "p3 = plot(X_binaria[1,:], line = :stem, marker = :circle, markersize = 5, linewidth = 3, size = (1100,500), label = \"Bernoulli\", legend = false) "
   ]
  },
  {
   "cell_type": "code",
   "execution_count": null,
   "metadata": {},
   "outputs": [],
   "source": [
    "#R = (vários vetores..)\n",
    "Lag_max = 100\n",
    "Lags = 0:Lag_max-1\n",
    "#J = length(Lags)\n",
    "R_binaria = zeros(length(Lags),k)\n",
    "\n",
    "for i in 1:k\n",
    "    R_binaria[:,i] .= autocor(X_binaria[i,:], Lags; demean=true) #Autocorrelação do vetor X\n",
    "end\n",
    "\n",
    "R_medio_binaria = mean(R_binaria,dims=2)\n"
   ]
  },
  {
   "cell_type": "code",
   "execution_count": null,
   "metadata": {},
   "outputs": [],
   "source": [
    "pb = plot(R_medio_binaria, line = :stem, marker = :circle, markersize = 5, linewidth = 3, size = (1100,500), label = \"ACF\", legend = false) "
   ]
  },
  {
   "cell_type": "markdown",
   "metadata": {},
   "source": [
    "### Processo de Poisson"
   ]
  },
  {
   "cell_type": "code",
   "execution_count": null,
   "metadata": {},
   "outputs": [],
   "source": [
    "# Função para gerar tempos de chegada de um processo de Poisson\n",
    "function poisson_process(lambda::Float64, T::Float64)\n",
    "    arrival_times = Float64[]\n",
    "    t = 0.0\n",
    "    \n",
    "    while t < T\n",
    "        t += rand(Exponential(1/lambda))\n",
    "        if t < T\n",
    "            push!(arrival_times, t)\n",
    "        end\n",
    "    end\n",
    "    \n",
    "    return arrival_times\n",
    "end\n",
    "\n",
    "# Parâmetros\n",
    "lambda = 1.0 # taxa do processo de Poisson (eventos por unidade de tempo)\n",
    "T = 150.0     # tempo total de simulação\n",
    "\n",
    "# Simulação do processo de Poisson\n",
    "arrival_times = poisson_process(lambda, T)"
   ]
  },
  {
   "cell_type": "code",
   "execution_count": null,
   "metadata": {},
   "outputs": [],
   "source": [
    "# Plotando o processo de Poisson\n",
    "plot([0; arrival_times], 0:length(arrival_times), label=\"Processo de Poisson\", marker=:o)\n",
    "xlabel!(\"Tempo\")\n",
    "ylabel!(\"Número de eventos\")\n",
    "title!(\"Simulação de um Processo de Poisson\")"
   ]
  },
  {
   "cell_type": "code",
   "execution_count": null,
   "metadata": {},
   "outputs": [],
   "source": [
    "#R = (vários vetores..)\n",
    "Lag_max = 100\n",
    "Lags = 0:Lag_max-1\n",
    "#J = length(Lags)\n",
    "R_Poisson = zeros(length(Lags),k)\n",
    "\n",
    "for i in 1:k\n",
    "    R_Poisson[:,i] .= autocor(arrival_times, Lags; demean=true) #Autocorrelação do vetor X\n",
    "end\n",
    "\n",
    "R_medio_Poisson = mean(R_Poisson,dims=2)"
   ]
  },
  {
   "cell_type": "code",
   "execution_count": null,
   "metadata": {},
   "outputs": [],
   "source": [
    "ppoisson = plot(R_medio_Poisson, line = :stem, marker = :circle, markersize = 5, linewidth = 3, size = (1100,500), label = \"ACF\", legend = false) "
   ]
  },
  {
   "cell_type": "markdown",
   "metadata": {},
   "source": [
    "### Scatter plot (Processo de Poisson)"
   ]
  },
  {
   "cell_type": "code",
   "execution_count": null,
   "metadata": {},
   "outputs": [],
   "source": [
    "Tau = 100\n",
    "J = length(arrival_times)\n",
    "#J = length(X_ruido_branco[1,:])\n",
    "\n",
    "\n",
    "Dados_1 = zeros(J-Tau,1)\n",
    "Dados_2 = zeros(J-Tau,1)\n",
    "\n",
    "\n",
    "Dados_1 .= arrival_times[1:J-Tau,]\n",
    "Dados_2 .= arrival_times[1+Tau:end,1]"
   ]
  },
  {
   "cell_type": "code",
   "execution_count": null,
   "metadata": {},
   "outputs": [],
   "source": [
    "p5 = scatter(Dados_2, Dados_1, label=\"Dados\", size=(600,600), legend=false)\n",
    "xlabel!(\"x(n-τ)\")\n",
    "ylabel!(\"x(n)\")\n",
    "display(p5)"
   ]
  },
  {
   "cell_type": "markdown",
   "metadata": {},
   "source": [
    "### Scatter plot - Processo de AR(1) "
   ]
  },
  {
   "cell_type": "code",
   "execution_count": null,
   "metadata": {},
   "outputs": [],
   "source": [
    "J = N\n",
    "Coef = 0.7\n",
    "Tau = 5\n",
    "Dados = randn(J,1)\n",
    "\n",
    "for j in 2:J\n",
    "    Dados[j,1] = Coef * Dados[j-1,1] + randn()\n",
    "end\n",
    "\n",
    "Dados_1 = zeros(J-Tau,1)\n",
    "Dados_2 = zeros(J-Tau,1)\n",
    "\n",
    "Dados_1 .= Dados[1:J-Tau]\n",
    "Dados_2 .= Dados[1+Tau:end]"
   ]
  },
  {
   "cell_type": "code",
   "execution_count": null,
   "metadata": {},
   "outputs": [],
   "source": [
    "p5 = scatter(Dados_2, Dados_1, label=\"Dados\", size=(600,600), legend = false)\n",
    "xlabel!(\"x(n-τ)\")\n",
    "ylabel!(\"x(n)\")\n",
    "display(p5)"
   ]
  },
  {
   "cell_type": "markdown",
   "metadata": {},
   "source": [
    "#### Funções de áudio (similar ao Matlab)"
   ]
  },
  {
   "cell_type": "code",
   "execution_count": null,
   "metadata": {},
   "outputs": [],
   "source": [
    "S = 8192 # sampling rate in Hz\n",
    "x = 0.6 * cos.(2π*(1:S÷2)*440/S)\n",
    "y = 0.7 * sin.(2π*(1:S÷2)*660/S)\n",
    "sound(x, S) # monophonic\n",
    "sound([x y], S) # stereo\n"
   ]
  }
 ],
 "metadata": {
  "kernelspec": {
   "display_name": "Julia 1.11.1",
   "language": "julia",
   "name": "julia-1.11"
  },
  "language_info": {
   "file_extension": ".jl",
   "mimetype": "application/julia",
   "name": "julia",
   "version": "1.11.1"
  }
 },
 "nbformat": 4,
 "nbformat_minor": 2
}

{
 "cells": [
  {
   "cell_type": "code",
   "execution_count": null,
   "metadata": {},
   "outputs": [],
   "source": [
    "using Random\n",
    "using Plots\n",
    "using Statistics\n",
    "using Distributions\n",
    "using StatsPlots\n",
    "using StatsBase\n",
    "using DSP"
   ]
  },
  {
   "cell_type": "markdown",
   "metadata": {},
   "source": [
    "Variáveis gerais"
   ]
  },
  {
   "cell_type": "code",
   "execution_count": null,
   "metadata": {},
   "outputs": [],
   "source": [
    "k = 1000    #Número de amostras\n",
    "N = 100      #Número de realizações    "
   ]
  },
  {
   "cell_type": "markdown",
   "metadata": {},
   "source": [
    "Sinal deterministico"
   ]
  },
  {
   "cell_type": "code",
   "execution_count": null,
   "metadata": {},
   "outputs": [],
   "source": [
    "#t = 0:0.001:5 \n",
    "\n",
    "t = range(0, 5, length = k)\n",
    "Y = sin.(2*π*t)"
   ]
  },
  {
   "cell_type": "code",
   "execution_count": null,
   "metadata": {},
   "outputs": [],
   "source": [
    "p1 = plot(t,Y, linewidth=3, linecolor = :blue, label=\"Seno determinístico\", size = (850, 500))\n",
    "display(p1)"
   ]
  },
  {
   "cell_type": "markdown",
   "metadata": {},
   "source": [
    "Sinal teste"
   ]
  },
  {
   "cell_type": "code",
   "execution_count": null,
   "metadata": {},
   "outputs": [],
   "source": [
    "Novo_teste =zeros(k,N)\n",
    "Var_ruido_novo = 2\n",
    "\n",
    "for i in 1:N\n",
    "  Novo_teste = randn(length(Y),1) .* Y\n",
    "end"
   ]
  },
  {
   "cell_type": "code",
   "execution_count": null,
   "metadata": {},
   "outputs": [],
   "source": [
    "P8 = plot(t,[Novo_teste], linewidth=4, linecolor = :red, size = (1150, 500))\n",
    "display(P8)"
   ]
  },
  {
   "cell_type": "markdown",
   "metadata": {},
   "source": [
    "Sinal aleatório: seno + ruído gaussiano"
   ]
  },
  {
   "cell_type": "code",
   "execution_count": null,
   "metadata": {},
   "outputs": [],
   "source": [
    "X_soma = zeros(k,N)\n",
    "Var_ruido = 1000\n",
    "\n",
    "for i in 1 : N\n",
    "    X_soma[:, i] .= 220 * Y + sqrt(Var_ruido)*randn(k,1)\n",
    "end\n",
    "\n",
    "X_soma_media = zeros(k,1)\n",
    "X_soma_media = mean(X_soma, dims=2)"
   ]
  },
  {
   "cell_type": "code",
   "execution_count": null,
   "metadata": {},
   "outputs": [],
   "source": [
    "p2 = plot(t,X_soma_media, linewidth=4, linecolor = :gray, label=\"Aleatório (cosseno + ruído)\", size = (1150, 500))\n",
    "    plot!(t,[X_soma],linewidth=0.5)\n",
    "display(p2)"
   ]
  },
  {
   "cell_type": "markdown",
   "metadata": {},
   "source": [
    "Sinal aleatório: fase aleatória"
   ]
  },
  {
   "cell_type": "code",
   "execution_count": null,
   "metadata": {},
   "outputs": [],
   "source": [
    "X_fase = zeros(k,N)\n",
    "\n",
    "#cUnif = Uniform(-π,π)\n",
    "\n",
    "\n",
    "for i in 1 : N\n",
    "    #Fase = rand(cUnif,1) \n",
    "    \n",
    "    Fase = 180 + 360 * rand() \n",
    "    X_fase[:, i] .= sin.(2*π*t .+ Fase)\n",
    "end\n",
    "\n",
    "X_fase_media = zeros(k,1)\n",
    "X_fase_media = mean(X_fase, dims=2)\n",
    "\n"
   ]
  },
  {
   "cell_type": "code",
   "execution_count": null,
   "metadata": {},
   "outputs": [],
   "source": [
    "p3 = plot(t,X_fase_media, linewidth=3, linecolor = :black, label=\"Random (Phase)\", size = (1150, 500))\n",
    "     #plot!(t,Y,linewidth=3, linecolor = :blue, label=\"Determinístico\", size = (1150, 500))\n",
    "     plot!(t,[X_fase])\n",
    "display(p3)"
   ]
  },
  {
   "cell_type": "markdown",
   "metadata": {},
   "source": [
    "Sinal aleatório: amplitude aleatória"
   ]
  },
  {
   "cell_type": "code",
   "execution_count": null,
   "metadata": {},
   "outputs": [],
   "source": [
    "X_amplitude = zeros(k,N)\n",
    "\n",
    "\n",
    "for i in 1 : N\n",
    "    α = randn()\n",
    "    X_amplitude[:, i] .= α * Y\n",
    "end\n",
    "\n",
    "X_amplitude_media = zeros(k,1)\n",
    "X_amplitude_media = mean(X_amplitude, dims=2)"
   ]
  },
  {
   "cell_type": "code",
   "execution_count": null,
   "metadata": {},
   "outputs": [],
   "source": [
    "p4 = plot(t,[X_amplitude_media], linewidth=3, linecolor = :red, size = (1150, 500))\n",
    "    plot!(t,[X_amplitude])\n",
    "display(p4)"
   ]
  },
  {
   "cell_type": "code",
   "execution_count": null,
   "metadata": {},
   "outputs": [],
   "source": [
    "X_ruido_branco = sqrt(2) * randn(k,N)"
   ]
  },
  {
   "cell_type": "code",
   "execution_count": null,
   "metadata": {},
   "outputs": [],
   "source": [
    "p5 = plot(t,mean(X_ruido_branco, dims=2), label = nothing,  size = (1150, 500))\n",
    "display(p5)"
   ]
  }
 ],
 "metadata": {
  "kernelspec": {
   "display_name": "Julia 1.11.1",
   "language": "julia",
   "name": "julia-1.11"
  },
  "language_info": {
   "file_extension": ".jl",
   "mimetype": "application/julia",
   "name": "julia",
   "version": "1.11.1"
  }
 },
 "nbformat": 4,
 "nbformat_minor": 2
}
